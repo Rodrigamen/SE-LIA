{
  "nbformat": 4,
  "nbformat_minor": 0,
  "metadata": {
    "colab": {
      "name": "Datitos_Definitivos.ipynb",
      "provenance": []
    },
    "kernelspec": {
      "name": "python3",
      "display_name": "Python 3"
    },
    "language_info": {
      "name": "python"
    }
  },
  "cells": [
    {
      "cell_type": "code",
      "execution_count": null,
      "metadata": {
        "colab": {
          "resources": {
            "http://localhost:8080/nbextensions/google.colab/files.js": {
              "data": "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",
              "ok": true,
              "headers": [
                [
                  "content-type",
                  "application/javascript"
                ]
              ],
              "status": 200,
              "status_text": ""
            }
          },
          "base_uri": "https://localhost:8080/",
          "height": 142
        },
        "id": "iBRKO17Faob7",
        "outputId": "2dadb089-f23e-4a34-c947-5ccf050a5408"
      },
      "outputs": [
        {
          "output_type": "display_data",
          "data": {
            "text/plain": [
              "<IPython.core.display.HTML object>"
            ],
            "text/html": [
              "\n",
              "     <input type=\"file\" id=\"files-c0757453-53f6-4e48-8224-5b0ee0c6b1a5\" name=\"files[]\" multiple disabled\n",
              "        style=\"border:none\" />\n",
              "     <output id=\"result-c0757453-53f6-4e48-8224-5b0ee0c6b1a5\">\n",
              "      Upload widget is only available when the cell has been executed in the\n",
              "      current browser session. Please rerun this cell to enable.\n",
              "      </output>\n",
              "      <script src=\"/nbextensions/google.colab/files.js\"></script> "
            ]
          },
          "metadata": {}
        },
        {
          "output_type": "stream",
          "name": "stdout",
          "text": [
            "Saving champions.csv to champions (7).csv\n",
            "Saving habilidades.csv to habilidades (7).csv\n",
            "Saving normalizado.csv to normalizado (7).csv\n"
          ]
        }
      ],
      "source": [
        "import pandas as pd \n",
        "import requests\n",
        "from google.colab import files\n",
        " \n",
        " \n",
        "uploaded = files.upload()"
      ]
    },
    {
      "cell_type": "code",
      "source": [
        "campeones = pd.read_csv(\"champions.csv\")\n",
        "habilidades = pd.read_csv(\"habilidades.csv\")\n",
        "normalizado = pd.read_csv(\"normalizado.csv\")"
      ],
      "metadata": {
        "id": "z8ec8LKHv1Y5"
      },
      "execution_count": null,
      "outputs": []
    },
    {
      "cell_type": "code",
      "source": [
        "normalizado. columns"
      ],
      "metadata": {
        "colab": {
          "base_uri": "https://localhost:8080/"
        },
        "id": "iG7Fp6Z8qVIi",
        "outputId": "e1e32515-a0b0-4682-ba66-1af66c052aa9"
      },
      "execution_count": null,
      "outputs": [
        {
          "output_type": "execute_result",
          "data": {
            "text/plain": [
              "Index(['Unnamed: 0', 'Incremento HP', 'Total HP', 'Incremento Magic Power',\n",
              "       'Total Magic Power', 'Incremento Attack Damage',\n",
              "       'Incremento Attack Speed', 'Incremento Attack Resistance',\n",
              "       'Total Attack Damage', 'Incremento Magic Resistance',\n",
              "       'Total Attack Speed', 'Total Attack Resistance',\n",
              "       'Total Magic Resistance', 'ms', 'rng', 'Dificultad', 'AD', 'Defensa',\n",
              "       'AP', 'Play Rate', 'TOP Play Rate', 'Jungle Play Rate', 'MID Play Rate',\n",
              "       'ADC Play Rate', 'Support Play Rate', 'ID', 'Med Play Rate', 'Med HP',\n",
              "       'Med Attack Damage', 'Med Magic Power', 'Med Attack Resistance',\n",
              "       'Med Attack Speed', 'Med Magic Resistance', 'Med ms', 'Med rng',\n",
              "       'Med Dificultad', 'Max Play Rate', 'Max HP', 'Max Attack Damage',\n",
              "       'Max Magic Power', 'Max Attack Resistance', 'Max Attack Speed',\n",
              "       'Max Magic Resistance', 'Max ms', 'Max rng', 'Max Dificultad'],\n",
              "      dtype='object')"
            ]
          },
          "metadata": {},
          "execution_count": 3
        }
      ]
    },
    {
      "cell_type": "code",
      "source": [
        "campeones.head(2)"
      ],
      "metadata": {
        "colab": {
          "base_uri": "https://localhost:8080/",
          "height": 431
        },
        "id": "S58TVBIGv7s6",
        "outputId": "c4a49bcd-3be4-46a0-d193-1ac64351cdf6"
      },
      "execution_count": null,
      "outputs": [
        {
          "output_type": "execute_result",
          "data": {
            "text/plain": [
              "   Unnamed: 0    name  Incremento HP Total HP  Incremento Magic Power  \\\n",
              "0           0  Aatrox         1530.0   2110,0                     0.0   \n",
              "1           1    Ahri         1564.0   2090,0                   425.0   \n",
              "\n",
              "  Total Magic Power  Incremento Attack Damage  Incremento Attack Speed  \\\n",
              "0               0,0                      85.0                     42.5   \n",
              "1             843,0                      51.0                     34.0   \n",
              "\n",
              "   Incremento Attack Resistance Total Attack Damage  ...               Pasiva  \\\n",
              "0                         55.25               145,0  ...  Deathbringer Stance   \n",
              "1                         59.50              104,04  ...        Essence Theft   \n",
              "\n",
              "  Posicion          Play Rate TOP Play Rate Jungle Play Rate MID Play Rate  \\\n",
              "0      TOP  6,776554184306237      6.409202         0.018245      0.349107   \n",
              "1      MID  4,652497366770692      0.016624         0.000000      4.514049   \n",
              "\n",
              "   ADC Play Rate  Support Play Rate  \\\n",
              "0       0.000000           0.000000   \n",
              "1       0.006099           0.115726   \n",
              "\n",
              "                                                Lore                Title  \n",
              "0  Once honored defenders of Shurima against the ...     The Darkin Blade  \n",
              "1  Innately connected to the latent power of Rune...  The Nine-Tailed Fox  \n",
              "\n",
              "[2 rows x 31 columns]"
            ],
            "text/html": [
              "\n",
              "  <div id=\"df-7263cb9c-9dcd-43e7-8e60-9bf1889f3b2b\">\n",
              "    <div class=\"colab-df-container\">\n",
              "      <div>\n",
              "<style scoped>\n",
              "    .dataframe tbody tr th:only-of-type {\n",
              "        vertical-align: middle;\n",
              "    }\n",
              "\n",
              "    .dataframe tbody tr th {\n",
              "        vertical-align: top;\n",
              "    }\n",
              "\n",
              "    .dataframe thead th {\n",
              "        text-align: right;\n",
              "    }\n",
              "</style>\n",
              "<table border=\"1\" class=\"dataframe\">\n",
              "  <thead>\n",
              "    <tr style=\"text-align: right;\">\n",
              "      <th></th>\n",
              "      <th>Unnamed: 0</th>\n",
              "      <th>name</th>\n",
              "      <th>Incremento HP</th>\n",
              "      <th>Total HP</th>\n",
              "      <th>Incremento Magic Power</th>\n",
              "      <th>Total Magic Power</th>\n",
              "      <th>Incremento Attack Damage</th>\n",
              "      <th>Incremento Attack Speed</th>\n",
              "      <th>Incremento Attack Resistance</th>\n",
              "      <th>Total Attack Damage</th>\n",
              "      <th>...</th>\n",
              "      <th>Pasiva</th>\n",
              "      <th>Posicion</th>\n",
              "      <th>Play Rate</th>\n",
              "      <th>TOP Play Rate</th>\n",
              "      <th>Jungle Play Rate</th>\n",
              "      <th>MID Play Rate</th>\n",
              "      <th>ADC Play Rate</th>\n",
              "      <th>Support Play Rate</th>\n",
              "      <th>Lore</th>\n",
              "      <th>Title</th>\n",
              "    </tr>\n",
              "  </thead>\n",
              "  <tbody>\n",
              "    <tr>\n",
              "      <th>0</th>\n",
              "      <td>0</td>\n",
              "      <td>Aatrox</td>\n",
              "      <td>1530.0</td>\n",
              "      <td>2110,0</td>\n",
              "      <td>0.0</td>\n",
              "      <td>0,0</td>\n",
              "      <td>85.0</td>\n",
              "      <td>42.5</td>\n",
              "      <td>55.25</td>\n",
              "      <td>145,0</td>\n",
              "      <td>...</td>\n",
              "      <td>Deathbringer Stance</td>\n",
              "      <td>TOP</td>\n",
              "      <td>6,776554184306237</td>\n",
              "      <td>6.409202</td>\n",
              "      <td>0.018245</td>\n",
              "      <td>0.349107</td>\n",
              "      <td>0.000000</td>\n",
              "      <td>0.000000</td>\n",
              "      <td>Once honored defenders of Shurima against the ...</td>\n",
              "      <td>The Darkin Blade</td>\n",
              "    </tr>\n",
              "    <tr>\n",
              "      <th>1</th>\n",
              "      <td>1</td>\n",
              "      <td>Ahri</td>\n",
              "      <td>1564.0</td>\n",
              "      <td>2090,0</td>\n",
              "      <td>425.0</td>\n",
              "      <td>843,0</td>\n",
              "      <td>51.0</td>\n",
              "      <td>34.0</td>\n",
              "      <td>59.50</td>\n",
              "      <td>104,04</td>\n",
              "      <td>...</td>\n",
              "      <td>Essence Theft</td>\n",
              "      <td>MID</td>\n",
              "      <td>4,652497366770692</td>\n",
              "      <td>0.016624</td>\n",
              "      <td>0.000000</td>\n",
              "      <td>4.514049</td>\n",
              "      <td>0.006099</td>\n",
              "      <td>0.115726</td>\n",
              "      <td>Innately connected to the latent power of Rune...</td>\n",
              "      <td>The Nine-Tailed Fox</td>\n",
              "    </tr>\n",
              "  </tbody>\n",
              "</table>\n",
              "<p>2 rows × 31 columns</p>\n",
              "</div>\n",
              "      <button class=\"colab-df-convert\" onclick=\"convertToInteractive('df-7263cb9c-9dcd-43e7-8e60-9bf1889f3b2b')\"\n",
              "              title=\"Convert this dataframe to an interactive table.\"\n",
              "              style=\"display:none;\">\n",
              "        \n",
              "  <svg xmlns=\"http://www.w3.org/2000/svg\" height=\"24px\"viewBox=\"0 0 24 24\"\n",
              "       width=\"24px\">\n",
              "    <path d=\"M0 0h24v24H0V0z\" fill=\"none\"/>\n",
              "    <path d=\"M18.56 5.44l.94 2.06.94-2.06 2.06-.94-2.06-.94-.94-2.06-.94 2.06-2.06.94zm-11 1L8.5 8.5l.94-2.06 2.06-.94-2.06-.94L8.5 2.5l-.94 2.06-2.06.94zm10 10l.94 2.06.94-2.06 2.06-.94-2.06-.94-.94-2.06-.94 2.06-2.06.94z\"/><path d=\"M17.41 7.96l-1.37-1.37c-.4-.4-.92-.59-1.43-.59-.52 0-1.04.2-1.43.59L10.3 9.45l-7.72 7.72c-.78.78-.78 2.05 0 2.83L4 21.41c.39.39.9.59 1.41.59.51 0 1.02-.2 1.41-.59l7.78-7.78 2.81-2.81c.8-.78.8-2.07 0-2.86zM5.41 20L4 18.59l7.72-7.72 1.47 1.35L5.41 20z\"/>\n",
              "  </svg>\n",
              "      </button>\n",
              "      \n",
              "  <style>\n",
              "    .colab-df-container {\n",
              "      display:flex;\n",
              "      flex-wrap:wrap;\n",
              "      gap: 12px;\n",
              "    }\n",
              "\n",
              "    .colab-df-convert {\n",
              "      background-color: #E8F0FE;\n",
              "      border: none;\n",
              "      border-radius: 50%;\n",
              "      cursor: pointer;\n",
              "      display: none;\n",
              "      fill: #1967D2;\n",
              "      height: 32px;\n",
              "      padding: 0 0 0 0;\n",
              "      width: 32px;\n",
              "    }\n",
              "\n",
              "    .colab-df-convert:hover {\n",
              "      background-color: #E2EBFA;\n",
              "      box-shadow: 0px 1px 2px rgba(60, 64, 67, 0.3), 0px 1px 3px 1px rgba(60, 64, 67, 0.15);\n",
              "      fill: #174EA6;\n",
              "    }\n",
              "\n",
              "    [theme=dark] .colab-df-convert {\n",
              "      background-color: #3B4455;\n",
              "      fill: #D2E3FC;\n",
              "    }\n",
              "\n",
              "    [theme=dark] .colab-df-convert:hover {\n",
              "      background-color: #434B5C;\n",
              "      box-shadow: 0px 1px 3px 1px rgba(0, 0, 0, 0.15);\n",
              "      filter: drop-shadow(0px 1px 2px rgba(0, 0, 0, 0.3));\n",
              "      fill: #FFFFFF;\n",
              "    }\n",
              "  </style>\n",
              "\n",
              "      <script>\n",
              "        const buttonEl =\n",
              "          document.querySelector('#df-7263cb9c-9dcd-43e7-8e60-9bf1889f3b2b button.colab-df-convert');\n",
              "        buttonEl.style.display =\n",
              "          google.colab.kernel.accessAllowed ? 'block' : 'none';\n",
              "\n",
              "        async function convertToInteractive(key) {\n",
              "          const element = document.querySelector('#df-7263cb9c-9dcd-43e7-8e60-9bf1889f3b2b');\n",
              "          const dataTable =\n",
              "            await google.colab.kernel.invokeFunction('convertToInteractive',\n",
              "                                                     [key], {});\n",
              "          if (!dataTable) return;\n",
              "\n",
              "          const docLinkHtml = 'Like what you see? Visit the ' +\n",
              "            '<a target=\"_blank\" href=https://colab.research.google.com/notebooks/data_table.ipynb>data table notebook</a>'\n",
              "            + ' to learn more about interactive tables.';\n",
              "          element.innerHTML = '';\n",
              "          dataTable['output_type'] = 'display_data';\n",
              "          await google.colab.output.renderOutput(dataTable, element);\n",
              "          const docLink = document.createElement('div');\n",
              "          docLink.innerHTML = docLinkHtml;\n",
              "          element.appendChild(docLink);\n",
              "        }\n",
              "      </script>\n",
              "    </div>\n",
              "  </div>\n",
              "  "
            ]
          },
          "metadata": {},
          "execution_count": 4
        }
      ]
    },
    {
      "cell_type": "code",
      "source": [
        "campeones.columns"
      ],
      "metadata": {
        "colab": {
          "base_uri": "https://localhost:8080/"
        },
        "id": "08gfn1p7rgTa",
        "outputId": "6f89d78a-03ae-439b-a0bb-ff8bd15985e2"
      },
      "execution_count": null,
      "outputs": [
        {
          "output_type": "execute_result",
          "data": {
            "text/plain": [
              "Index(['Unnamed: 0', 'name', 'Incremento HP', 'Total HP',\n",
              "       'Incremento Magic Power', 'Total Magic Power',\n",
              "       'Incremento Attack Damage', 'Incremento Attack Speed',\n",
              "       'Incremento Attack Resistance', 'Total Attack Damage',\n",
              "       'Incremento Magic Resistance', 'Total Attack Speed',\n",
              "       'Total Attack Resistance', 'Total Magic Resistance', 'ms', 'rng', 'ID',\n",
              "       'Dificultad', 'AD', 'Defensa', 'AP', 'Pasiva', 'Posicion', 'Play Rate',\n",
              "       'TOP Play Rate', 'Jungle Play Rate', 'MID Play Rate', 'ADC Play Rate',\n",
              "       'Support Play Rate', 'Lore', 'Title'],\n",
              "      dtype='object')"
            ]
          },
          "metadata": {},
          "execution_count": 5
        }
      ]
    },
    {
      "cell_type": "code",
      "source": [
        "campeones[\"Play Rate\"] = campeones[\"Play Rate\"].apply(lambda x: str(x).replace(\".\", \",\"))\n",
        "campeones[\"Total HP\"] = campeones[\"Total HP\"].apply(lambda x: str(x).replace(\".\", \",\"))\n",
        "campeones[\"Total Attack Damage\"] = campeones[\"Total Attack Damage\"].apply(lambda x: str(x).replace(\".\", \",\"))\n",
        "campeones[\"Total Magic Power\"] = campeones[\"Total Magic Power\"].apply(lambda x: str(x).replace(\".\", \",\"))\n",
        "campeones[\"Total Attack Resistance\"] = campeones[\"Total Attack Resistance\"].apply(lambda x: str(x).replace(\".\", \",\"))\n",
        "campeones[\"Total Attack Speed\"] = campeones[\"Total Attack Speed\"].apply(lambda x: str(x).replace(\".\", \",\"))\n",
        "campeones[\"Total Magic Resistance\"] = campeones[\"Total Magic Resistance\"].apply(lambda x: str(x).replace(\".\", \",\"))\n",
        "campeones[\"ms\"] = campeones[\"ms\"].apply(lambda x: str(x).replace(\".\", \",\"))\n",
        "campeones[\"rng\"] = campeones[\"rng\"].apply(lambda x: str(x).replace(\".\", \",\"))"
      ],
      "metadata": {
        "id": "diqw31Ehp_dy"
      },
      "execution_count": null,
      "outputs": []
    },
    {
      "cell_type": "markdown",
      "source": [
        "Cambiamos puntos por comas para poder variar tipo de dato en Tableau"
      ],
      "metadata": {
        "id": "jim44Aq4qWV-"
      }
    },
    {
      "cell_type": "code",
      "source": [
        "habilidades.head(2)"
      ],
      "metadata": {
        "colab": {
          "base_uri": "https://localhost:8080/",
          "height": 208
        },
        "id": "aAhXZ3CGwU25",
        "outputId": "a691cc11-e645-4b49-84ed-afb0d9e27abc"
      },
      "execution_count": null,
      "outputs": [
        {
          "output_type": "execute_result",
          "data": {
            "text/plain": [
              "   Unnamed: 0 Champion              Ability     Type  \\\n",
              "0           0   AATROX  DEATHBRINGER STANCE  Passive   \n",
              "1           1   AATROX      INFERNAL CHAINS        W   \n",
              "\n",
              "                                         Description Range        Cooldown  \\\n",
              "0  Aatrox's next basic attack gains 50 bonus rang...   NaN             NaN   \n",
              "1  Range: 825 Cooldown: 26/23/20/17/14 Aatrox sma...   825  26/23/20/17/14   \n",
              "\n",
              "  Cost                  Scalings   ID  \n",
              "0  NaN                       NaN  266  \n",
              "1  NaN  (+0.4 per attack damage)  266  "
            ],
            "text/html": [
              "\n",
              "  <div id=\"df-b1ab3ae3-28d4-44be-b695-effe8a2041a1\">\n",
              "    <div class=\"colab-df-container\">\n",
              "      <div>\n",
              "<style scoped>\n",
              "    .dataframe tbody tr th:only-of-type {\n",
              "        vertical-align: middle;\n",
              "    }\n",
              "\n",
              "    .dataframe tbody tr th {\n",
              "        vertical-align: top;\n",
              "    }\n",
              "\n",
              "    .dataframe thead th {\n",
              "        text-align: right;\n",
              "    }\n",
              "</style>\n",
              "<table border=\"1\" class=\"dataframe\">\n",
              "  <thead>\n",
              "    <tr style=\"text-align: right;\">\n",
              "      <th></th>\n",
              "      <th>Unnamed: 0</th>\n",
              "      <th>Champion</th>\n",
              "      <th>Ability</th>\n",
              "      <th>Type</th>\n",
              "      <th>Description</th>\n",
              "      <th>Range</th>\n",
              "      <th>Cooldown</th>\n",
              "      <th>Cost</th>\n",
              "      <th>Scalings</th>\n",
              "      <th>ID</th>\n",
              "    </tr>\n",
              "  </thead>\n",
              "  <tbody>\n",
              "    <tr>\n",
              "      <th>0</th>\n",
              "      <td>0</td>\n",
              "      <td>AATROX</td>\n",
              "      <td>DEATHBRINGER STANCE</td>\n",
              "      <td>Passive</td>\n",
              "      <td>Aatrox's next basic attack gains 50 bonus rang...</td>\n",
              "      <td>NaN</td>\n",
              "      <td>NaN</td>\n",
              "      <td>NaN</td>\n",
              "      <td>NaN</td>\n",
              "      <td>266</td>\n",
              "    </tr>\n",
              "    <tr>\n",
              "      <th>1</th>\n",
              "      <td>1</td>\n",
              "      <td>AATROX</td>\n",
              "      <td>INFERNAL CHAINS</td>\n",
              "      <td>W</td>\n",
              "      <td>Range: 825 Cooldown: 26/23/20/17/14 Aatrox sma...</td>\n",
              "      <td>825</td>\n",
              "      <td>26/23/20/17/14</td>\n",
              "      <td>NaN</td>\n",
              "      <td>(+0.4 per attack damage)</td>\n",
              "      <td>266</td>\n",
              "    </tr>\n",
              "  </tbody>\n",
              "</table>\n",
              "</div>\n",
              "      <button class=\"colab-df-convert\" onclick=\"convertToInteractive('df-b1ab3ae3-28d4-44be-b695-effe8a2041a1')\"\n",
              "              title=\"Convert this dataframe to an interactive table.\"\n",
              "              style=\"display:none;\">\n",
              "        \n",
              "  <svg xmlns=\"http://www.w3.org/2000/svg\" height=\"24px\"viewBox=\"0 0 24 24\"\n",
              "       width=\"24px\">\n",
              "    <path d=\"M0 0h24v24H0V0z\" fill=\"none\"/>\n",
              "    <path d=\"M18.56 5.44l.94 2.06.94-2.06 2.06-.94-2.06-.94-.94-2.06-.94 2.06-2.06.94zm-11 1L8.5 8.5l.94-2.06 2.06-.94-2.06-.94L8.5 2.5l-.94 2.06-2.06.94zm10 10l.94 2.06.94-2.06 2.06-.94-2.06-.94-.94-2.06-.94 2.06-2.06.94z\"/><path d=\"M17.41 7.96l-1.37-1.37c-.4-.4-.92-.59-1.43-.59-.52 0-1.04.2-1.43.59L10.3 9.45l-7.72 7.72c-.78.78-.78 2.05 0 2.83L4 21.41c.39.39.9.59 1.41.59.51 0 1.02-.2 1.41-.59l7.78-7.78 2.81-2.81c.8-.78.8-2.07 0-2.86zM5.41 20L4 18.59l7.72-7.72 1.47 1.35L5.41 20z\"/>\n",
              "  </svg>\n",
              "      </button>\n",
              "      \n",
              "  <style>\n",
              "    .colab-df-container {\n",
              "      display:flex;\n",
              "      flex-wrap:wrap;\n",
              "      gap: 12px;\n",
              "    }\n",
              "\n",
              "    .colab-df-convert {\n",
              "      background-color: #E8F0FE;\n",
              "      border: none;\n",
              "      border-radius: 50%;\n",
              "      cursor: pointer;\n",
              "      display: none;\n",
              "      fill: #1967D2;\n",
              "      height: 32px;\n",
              "      padding: 0 0 0 0;\n",
              "      width: 32px;\n",
              "    }\n",
              "\n",
              "    .colab-df-convert:hover {\n",
              "      background-color: #E2EBFA;\n",
              "      box-shadow: 0px 1px 2px rgba(60, 64, 67, 0.3), 0px 1px 3px 1px rgba(60, 64, 67, 0.15);\n",
              "      fill: #174EA6;\n",
              "    }\n",
              "\n",
              "    [theme=dark] .colab-df-convert {\n",
              "      background-color: #3B4455;\n",
              "      fill: #D2E3FC;\n",
              "    }\n",
              "\n",
              "    [theme=dark] .colab-df-convert:hover {\n",
              "      background-color: #434B5C;\n",
              "      box-shadow: 0px 1px 3px 1px rgba(0, 0, 0, 0.15);\n",
              "      filter: drop-shadow(0px 1px 2px rgba(0, 0, 0, 0.3));\n",
              "      fill: #FFFFFF;\n",
              "    }\n",
              "  </style>\n",
              "\n",
              "      <script>\n",
              "        const buttonEl =\n",
              "          document.querySelector('#df-b1ab3ae3-28d4-44be-b695-effe8a2041a1 button.colab-df-convert');\n",
              "        buttonEl.style.display =\n",
              "          google.colab.kernel.accessAllowed ? 'block' : 'none';\n",
              "\n",
              "        async function convertToInteractive(key) {\n",
              "          const element = document.querySelector('#df-b1ab3ae3-28d4-44be-b695-effe8a2041a1');\n",
              "          const dataTable =\n",
              "            await google.colab.kernel.invokeFunction('convertToInteractive',\n",
              "                                                     [key], {});\n",
              "          if (!dataTable) return;\n",
              "\n",
              "          const docLinkHtml = 'Like what you see? Visit the ' +\n",
              "            '<a target=\"_blank\" href=https://colab.research.google.com/notebooks/data_table.ipynb>data table notebook</a>'\n",
              "            + ' to learn more about interactive tables.';\n",
              "          element.innerHTML = '';\n",
              "          dataTable['output_type'] = 'display_data';\n",
              "          await google.colab.output.renderOutput(dataTable, element);\n",
              "          const docLink = document.createElement('div');\n",
              "          docLink.innerHTML = docLinkHtml;\n",
              "          element.appendChild(docLink);\n",
              "        }\n",
              "      </script>\n",
              "    </div>\n",
              "  </div>\n",
              "  "
            ]
          },
          "metadata": {},
          "execution_count": 6
        }
      ]
    },
    {
      "cell_type": "code",
      "source": [
        "normalizado.head(2)"
      ],
      "metadata": {
        "colab": {
          "base_uri": "https://localhost:8080/",
          "height": 240
        },
        "id": "DPkbuoI5wXBC",
        "outputId": "bcba2813-9fc4-4384-b6bf-e1daae785f0c"
      },
      "execution_count": null,
      "outputs": [
        {
          "output_type": "execute_result",
          "data": {
            "text/plain": [
              "   Unnamed: 0  Incremento HP            Total HP  Incremento Magic Power  \\\n",
              "0           0       0.576923  0,6596558317399618                0.000000   \n",
              "1           1       0.615385  0,6405353728489483                0.373134   \n",
              "\n",
              "    Total Magic Power  Incremento Attack Damage  Incremento Attack Speed  \\\n",
              "0                 0,0                       1.0                      0.3   \n",
              "1  0,5486138227254979                       0.6                      0.2   \n",
              "\n",
              "   Incremento Attack Resistance Total Attack Damage  \\\n",
              "0                          0.65  0,9223300970873788   \n",
              "1                          0.70  0,5246601941747573   \n",
              "\n",
              "   Incremento Magic Resistance  ... Max Play Rate Max HP Max Attack Damage  \\\n",
              "0                     0.791667  ...             1      1                 1   \n",
              "1                     0.166667  ...             1      1                 1   \n",
              "\n",
              "  Max Magic Power Max Attack Resistance Max Attack Speed  \\\n",
              "0               1                     1                1   \n",
              "1               1                     1                1   \n",
              "\n",
              "   Max Magic Resistance  Max ms  Max rng Max Dificultad  \n",
              "0                     1       1        1              1  \n",
              "1                     1       1        1              1  \n",
              "\n",
              "[2 rows x 46 columns]"
            ],
            "text/html": [
              "\n",
              "  <div id=\"df-443a40a0-fa14-45de-8d45-bf2a19eafd97\">\n",
              "    <div class=\"colab-df-container\">\n",
              "      <div>\n",
              "<style scoped>\n",
              "    .dataframe tbody tr th:only-of-type {\n",
              "        vertical-align: middle;\n",
              "    }\n",
              "\n",
              "    .dataframe tbody tr th {\n",
              "        vertical-align: top;\n",
              "    }\n",
              "\n",
              "    .dataframe thead th {\n",
              "        text-align: right;\n",
              "    }\n",
              "</style>\n",
              "<table border=\"1\" class=\"dataframe\">\n",
              "  <thead>\n",
              "    <tr style=\"text-align: right;\">\n",
              "      <th></th>\n",
              "      <th>Unnamed: 0</th>\n",
              "      <th>Incremento HP</th>\n",
              "      <th>Total HP</th>\n",
              "      <th>Incremento Magic Power</th>\n",
              "      <th>Total Magic Power</th>\n",
              "      <th>Incremento Attack Damage</th>\n",
              "      <th>Incremento Attack Speed</th>\n",
              "      <th>Incremento Attack Resistance</th>\n",
              "      <th>Total Attack Damage</th>\n",
              "      <th>Incremento Magic Resistance</th>\n",
              "      <th>...</th>\n",
              "      <th>Max Play Rate</th>\n",
              "      <th>Max HP</th>\n",
              "      <th>Max Attack Damage</th>\n",
              "      <th>Max Magic Power</th>\n",
              "      <th>Max Attack Resistance</th>\n",
              "      <th>Max Attack Speed</th>\n",
              "      <th>Max Magic Resistance</th>\n",
              "      <th>Max ms</th>\n",
              "      <th>Max rng</th>\n",
              "      <th>Max Dificultad</th>\n",
              "    </tr>\n",
              "  </thead>\n",
              "  <tbody>\n",
              "    <tr>\n",
              "      <th>0</th>\n",
              "      <td>0</td>\n",
              "      <td>0.576923</td>\n",
              "      <td>0,6596558317399618</td>\n",
              "      <td>0.000000</td>\n",
              "      <td>0,0</td>\n",
              "      <td>1.0</td>\n",
              "      <td>0.3</td>\n",
              "      <td>0.65</td>\n",
              "      <td>0,9223300970873788</td>\n",
              "      <td>0.791667</td>\n",
              "      <td>...</td>\n",
              "      <td>1</td>\n",
              "      <td>1</td>\n",
              "      <td>1</td>\n",
              "      <td>1</td>\n",
              "      <td>1</td>\n",
              "      <td>1</td>\n",
              "      <td>1</td>\n",
              "      <td>1</td>\n",
              "      <td>1</td>\n",
              "      <td>1</td>\n",
              "    </tr>\n",
              "    <tr>\n",
              "      <th>1</th>\n",
              "      <td>1</td>\n",
              "      <td>0.615385</td>\n",
              "      <td>0,6405353728489483</td>\n",
              "      <td>0.373134</td>\n",
              "      <td>0,5486138227254979</td>\n",
              "      <td>0.6</td>\n",
              "      <td>0.2</td>\n",
              "      <td>0.70</td>\n",
              "      <td>0,5246601941747573</td>\n",
              "      <td>0.166667</td>\n",
              "      <td>...</td>\n",
              "      <td>1</td>\n",
              "      <td>1</td>\n",
              "      <td>1</td>\n",
              "      <td>1</td>\n",
              "      <td>1</td>\n",
              "      <td>1</td>\n",
              "      <td>1</td>\n",
              "      <td>1</td>\n",
              "      <td>1</td>\n",
              "      <td>1</td>\n",
              "    </tr>\n",
              "  </tbody>\n",
              "</table>\n",
              "<p>2 rows × 46 columns</p>\n",
              "</div>\n",
              "      <button class=\"colab-df-convert\" onclick=\"convertToInteractive('df-443a40a0-fa14-45de-8d45-bf2a19eafd97')\"\n",
              "              title=\"Convert this dataframe to an interactive table.\"\n",
              "              style=\"display:none;\">\n",
              "        \n",
              "  <svg xmlns=\"http://www.w3.org/2000/svg\" height=\"24px\"viewBox=\"0 0 24 24\"\n",
              "       width=\"24px\">\n",
              "    <path d=\"M0 0h24v24H0V0z\" fill=\"none\"/>\n",
              "    <path d=\"M18.56 5.44l.94 2.06.94-2.06 2.06-.94-2.06-.94-.94-2.06-.94 2.06-2.06.94zm-11 1L8.5 8.5l.94-2.06 2.06-.94-2.06-.94L8.5 2.5l-.94 2.06-2.06.94zm10 10l.94 2.06.94-2.06 2.06-.94-2.06-.94-.94-2.06-.94 2.06-2.06.94z\"/><path d=\"M17.41 7.96l-1.37-1.37c-.4-.4-.92-.59-1.43-.59-.52 0-1.04.2-1.43.59L10.3 9.45l-7.72 7.72c-.78.78-.78 2.05 0 2.83L4 21.41c.39.39.9.59 1.41.59.51 0 1.02-.2 1.41-.59l7.78-7.78 2.81-2.81c.8-.78.8-2.07 0-2.86zM5.41 20L4 18.59l7.72-7.72 1.47 1.35L5.41 20z\"/>\n",
              "  </svg>\n",
              "      </button>\n",
              "      \n",
              "  <style>\n",
              "    .colab-df-container {\n",
              "      display:flex;\n",
              "      flex-wrap:wrap;\n",
              "      gap: 12px;\n",
              "    }\n",
              "\n",
              "    .colab-df-convert {\n",
              "      background-color: #E8F0FE;\n",
              "      border: none;\n",
              "      border-radius: 50%;\n",
              "      cursor: pointer;\n",
              "      display: none;\n",
              "      fill: #1967D2;\n",
              "      height: 32px;\n",
              "      padding: 0 0 0 0;\n",
              "      width: 32px;\n",
              "    }\n",
              "\n",
              "    .colab-df-convert:hover {\n",
              "      background-color: #E2EBFA;\n",
              "      box-shadow: 0px 1px 2px rgba(60, 64, 67, 0.3), 0px 1px 3px 1px rgba(60, 64, 67, 0.15);\n",
              "      fill: #174EA6;\n",
              "    }\n",
              "\n",
              "    [theme=dark] .colab-df-convert {\n",
              "      background-color: #3B4455;\n",
              "      fill: #D2E3FC;\n",
              "    }\n",
              "\n",
              "    [theme=dark] .colab-df-convert:hover {\n",
              "      background-color: #434B5C;\n",
              "      box-shadow: 0px 1px 3px 1px rgba(0, 0, 0, 0.15);\n",
              "      filter: drop-shadow(0px 1px 2px rgba(0, 0, 0, 0.3));\n",
              "      fill: #FFFFFF;\n",
              "    }\n",
              "  </style>\n",
              "\n",
              "      <script>\n",
              "        const buttonEl =\n",
              "          document.querySelector('#df-443a40a0-fa14-45de-8d45-bf2a19eafd97 button.colab-df-convert');\n",
              "        buttonEl.style.display =\n",
              "          google.colab.kernel.accessAllowed ? 'block' : 'none';\n",
              "\n",
              "        async function convertToInteractive(key) {\n",
              "          const element = document.querySelector('#df-443a40a0-fa14-45de-8d45-bf2a19eafd97');\n",
              "          const dataTable =\n",
              "            await google.colab.kernel.invokeFunction('convertToInteractive',\n",
              "                                                     [key], {});\n",
              "          if (!dataTable) return;\n",
              "\n",
              "          const docLinkHtml = 'Like what you see? Visit the ' +\n",
              "            '<a target=\"_blank\" href=https://colab.research.google.com/notebooks/data_table.ipynb>data table notebook</a>'\n",
              "            + ' to learn more about interactive tables.';\n",
              "          element.innerHTML = '';\n",
              "          dataTable['output_type'] = 'display_data';\n",
              "          await google.colab.output.renderOutput(dataTable, element);\n",
              "          const docLink = document.createElement('div');\n",
              "          docLink.innerHTML = docLinkHtml;\n",
              "          element.appendChild(docLink);\n",
              "        }\n",
              "      </script>\n",
              "    </div>\n",
              "  </div>\n",
              "  "
            ]
          },
          "metadata": {},
          "execution_count": 12
        }
      ]
    },
    {
      "cell_type": "code",
      "source": [
        "listanumeros = normalizado[\"Unnamed: 0\"].tolist()\n",
        "listaids = campeones[\"ID\"].tolist()"
      ],
      "metadata": {
        "id": "vLyqjOeZwc6W"
      },
      "execution_count": null,
      "outputs": []
    },
    {
      "cell_type": "code",
      "source": [
        "dictvacio = {}"
      ],
      "metadata": {
        "id": "JtVbvHzBwpLl"
      },
      "execution_count": null,
      "outputs": []
    },
    {
      "cell_type": "code",
      "source": [
        "for i, z in zip(listanumeros, listaids):\n",
        "  dictvacio[i] = z"
      ],
      "metadata": {
        "id": "nOKlqGWSwxp9"
      },
      "execution_count": null,
      "outputs": []
    },
    {
      "cell_type": "code",
      "source": [
        "normalizado[\"ID\"] = normalizado[\"Unnamed: 0\"].map(dictvacio)"
      ],
      "metadata": {
        "id": "3ZKkqqTTw3Al"
      },
      "execution_count": null,
      "outputs": []
    },
    {
      "cell_type": "markdown",
      "source": [
        "Metemos IDs en lista normalizada"
      ],
      "metadata": {
        "id": "RjriL9V7qeXE"
      }
    },
    {
      "cell_type": "code",
      "source": [
        "normalizado[\"Play Rate\"] = normalizado[\"Play Rate\"].apply(lambda x: str(x).replace(\",\", \".\"))\n",
        "normalizado[\"Total HP\"] = normalizado[\"Total HP\"].apply(lambda x: str(x).replace(\",\", \".\"))\n",
        "normalizado[\"Total Attack Damage\"] = normalizado[\"Total Attack Damage\"].apply(lambda x: str(x).replace(\",\", \".\"))\n",
        "normalizado[\"Total Magic Power\"] = normalizado[\"Total Magic Power\"].apply(lambda x: str(x).replace(\",\", \".\"))\n",
        "normalizado[\"Total Attack Resistance\"] = normalizado[\"Total Attack Resistance\"].apply(lambda x: str(x).replace(\",\", \".\"))\n",
        "normalizado[\"Total Attack Speed\"] = normalizado[\"Total Attack Speed\"].apply(lambda x: str(x).replace(\",\", \".\"))\n",
        "normalizado[\"Total Magic Resistance\"] = normalizado[\"Total Magic Resistance\"].apply(lambda x: str(x).replace(\",\", \".\"))\n",
        "normalizado[\"ms\"] = normalizado[\"ms\"].apply(lambda x: str(x).replace(\",\", \".\"))\n",
        "normalizado[\"rng\"] = normalizado[\"rng\"].apply(lambda x: str(x).replace(\",\", \".\"))\n",
        "normalizado[\"Dificultad\"] = normalizado[\"Dificultad\"].apply(lambda x: str(x).replace(\",\", \".\"))"
      ],
      "metadata": {
        "id": "evdJwjXNlDX7"
      },
      "execution_count": null,
      "outputs": []
    },
    {
      "cell_type": "markdown",
      "source": [
        "cambiamos comas por puntos para poder operar con floats \n"
      ],
      "metadata": {
        "id": "05E0zq9Jqm51"
      }
    },
    {
      "cell_type": "code",
      "source": [
        "medias = pd.DataFrame()"
      ],
      "metadata": {
        "id": "fMXoY7_J5YOO"
      },
      "execution_count": null,
      "outputs": []
    },
    {
      "cell_type": "code",
      "source": [
        "normalizado[\"Med Play Rate\"] = normalizado[\"Play Rate\"].apply(lambda x: float(x))\n",
        "normalizado[\"Med HP\"] = normalizado[\"Total HP\"].apply(lambda x: float(x))\n",
        "normalizado[\"Med Attack Damage\"] = normalizado[\"Total Attack Damage\"].apply(lambda x: float(x))\n",
        "normalizado[\"Med Magic Power\"] = normalizado[\"Total Magic Power\"].apply(lambda x: float(x))\n",
        "normalizado[\"Med Attack Resistance\"] = normalizado[\"Total Attack Resistance\"].apply(lambda x: float(x))\n",
        "normalizado[\"Med Attack Speed\"] = normalizado[\"Total Attack Speed\"].apply(lambda x: float(x))\n",
        "normalizado[\"Med Magic Resistance\"] = normalizado[\"Total Magic Resistance\"].apply(lambda x: float(x))\n",
        "normalizado[\"Med ms\"] = normalizado[\"ms\"].apply(lambda x: float(x))\n",
        "normalizado[\"Med rng\"] = normalizado[\"rng\"].apply(lambda x: float(x))\n",
        "normalizado[\"Med Dificultad\"] = normalizado[\"Dificultad\"].apply(lambda x: float(x))\n",
        "normalizado[\"ID\"] = normalizado[\"ID\"]"
      ],
      "metadata": {
        "id": "-FjLD0BaiC9Q"
      },
      "execution_count": null,
      "outputs": []
    },
    {
      "cell_type": "markdown",
      "source": [
        "Convertimos a float"
      ],
      "metadata": {
        "id": "T4iIDyZbqsVq"
      }
    },
    {
      "cell_type": "markdown",
      "source": [
        ""
      ],
      "metadata": {
        "id": "MGbTlyA66Mme"
      }
    },
    {
      "cell_type": "code",
      "source": [
        "normalizado[\"Med Play Rate\"] = normalizado[\"Med Play Rate\"].mean()\n",
        "normalizado[\"Med HP\"] = normalizado[\"Med HP\"].mean()\n",
        "normalizado[\"Med Attack Damage\"] = normalizado[\"Med Attack Damage\"].mean()\n",
        "normalizado[\"Med Magic Power\"] = normalizado[\"Med Magic Power\"].mean()\n",
        "normalizado[\"Med Attack Resistance\"] = normalizado[\"Med Attack Resistance\"].mean()\n",
        "normalizado[\"Med Attack Speed\"] = normalizado[\"Med Attack Speed\"].mean()\n",
        "normalizado[\"Med Magic Resistance\"] = normalizado[\"Med Magic Resistance\"].mean()\n",
        "normalizado[\"Med ms\"] = normalizado[\"Med ms\"].mean()\n",
        "normalizado[\"Med rng\"] = normalizado[\"Med rng\"].mean()\n",
        "normalizado[\"Med Dificultad\"] = normalizado[\"Med Dificultad\"].mean()"
      ],
      "metadata": {
        "id": "qjBGUcUXlajw"
      },
      "execution_count": null,
      "outputs": []
    },
    {
      "cell_type": "markdown",
      "source": [
        "Operamos y sacamos la media"
      ],
      "metadata": {
        "id": "OrrA1MGWr0Vj"
      }
    },
    {
      "cell_type": "code",
      "source": [
        "normalizado[\"Max Play Rate\"] = 1\n",
        "normalizado[\"Max HP\"] = 1\n",
        "normalizado[\"Max Attack Damage\"] = 1\n",
        "normalizado[\"Max Magic Power\"] = 1\n",
        "normalizado[\"Max Attack Resistance\"] = 1\n",
        "normalizado[\"Max Attack Speed\"] = 1\n",
        "normalizado[\"Max Magic Resistance\"] = 1\n",
        "normalizado[\"Max ms\"] = 1\n",
        "normalizado[\"Max rng\"] = 1\n",
        "normalizado[\"Max Dificultad\"] = 1"
      ],
      "metadata": {
        "id": "NwnFk_f9riL8"
      },
      "execution_count": null,
      "outputs": []
    },
    {
      "cell_type": "markdown",
      "source": [
        "Establecemos los máximos"
      ],
      "metadata": {
        "id": "dGu9JbECqt6M"
      }
    },
    {
      "cell_type": "code",
      "source": [
        "normalizado[\"Play Rate\"] = normalizado[\"Play Rate\"].apply(lambda x: str(x).replace(\".\", \",\"))\n",
        "normalizado[\"Total HP\"] = normalizado[\"Total HP\"].apply(lambda x: str(x).replace(\".\", \",\"))\n",
        "normalizado[\"Total Attack Damage\"] = normalizado[\"Total Attack Damage\"].apply(lambda x: str(x).replace(\".\", \",\"))\n",
        "normalizado[\"Total Magic Power\"] = normalizado[\"Total Magic Power\"].apply(lambda x: str(x).replace(\".\", \",\"))\n",
        "normalizado[\"Total Attack Resistance\"] = normalizado[\"Total Attack Resistance\"].apply(lambda x: str(x).replace(\".\", \",\"))\n",
        "normalizado[\"Total Attack Speed\"] = normalizado[\"Total Attack Speed\"].apply(lambda x: str(x).replace(\".\", \",\"))\n",
        "normalizado[\"Total Magic Resistance\"] = normalizado[\"Total Magic Resistance\"].apply(lambda x: str(x).replace(\".\", \",\"))\n",
        "normalizado[\"ms\"] = normalizado[\"ms\"].apply(lambda x: str(x).replace(\".\", \",\"))\n",
        "normalizado[\"rng\"] = normalizado[\"rng\"].apply(lambda x: str(x).replace(\".\", \",\"))\n",
        "normalizado[\"Dificultad\"] = normalizado[\"Dificultad\"].apply(lambda x: str(x).replace(\".\", \",\"))"
      ],
      "metadata": {
        "id": "kkAwwYwSQ-cO"
      },
      "execution_count": null,
      "outputs": []
    },
    {
      "cell_type": "code",
      "source": [
        "normalizado[\"Med Play Rate\"] = medias[\"Med Play Rate\"].apply(lambda x: str(x).replace(\".\", \",\"))\n",
        "normalizado[\"Med HP\"] = medias[\"Med HP\"].apply(lambda x: str(x).replace(\".\", \",\"))\n",
        "normalizado[\"Med Attack Damage\"] = medias[\"Med Attack Damage\"].apply(lambda x: str(x).replace(\".\", \",\"))\n",
        "normalizado[\"Med Magic Power\"] = medias[\"Med Magic Power\"].apply(lambda x: str(x).replace(\".\", \",\"))\n",
        "normalizado[\"Med Attack Resistance\"] = medias[\"Med Attack Resistance\"].apply(lambda x: str(x).replace(\".\", \",\"))\n",
        "normalizado[\"Med Attack Speed\"] = medias[\"Med Attack Speed\"].apply(lambda x: str(x).replace(\".\", \",\"))\n",
        "normalizado[\"Med Magic Resistance\"] = medias[\"Med Magic Resistance\"].apply(lambda x: str(x).replace(\".\", \",\"))\n",
        "normalizado[\"Med ms\"] = medias[\"Med ms\"].apply(lambda x: str(x).replace(\".\", \",\"))\n",
        "normalizado[\"Med rng\"] = medias[\"Med rng\"].apply(lambda x: str(x).replace(\".\", \",\"))\n",
        "normalizado[\"Med Dificultad\"] = medias[\"Med Dificultad\"].apply(lambda x: str(x).replace(\".\", \",\"))"
      ],
      "metadata": {
        "id": "t-ZpTBSWo_S8"
      },
      "execution_count": null,
      "outputs": []
    },
    {
      "cell_type": "markdown",
      "source": [
        "Volvemos a cambiar puntos por comas para poder convertir a float dentro de Tableau"
      ],
      "metadata": {
        "id": "PVU98ez6r-i8"
      }
    },
    {
      "cell_type": "code",
      "source": [
        "normalizado = normalizado.drop([\"Unnamed: 0\"], axis=1)"
      ],
      "metadata": {
        "id": "9BTCIwcuw-jb"
      },
      "execution_count": null,
      "outputs": []
    },
    {
      "cell_type": "code",
      "source": [
        "normalizado"
      ],
      "metadata": {
        "colab": {
          "base_uri": "https://localhost:8080/",
          "height": 522
        },
        "id": "Kxfk1EQRVkVW",
        "outputId": "73034fa3-563b-43af-d810-7c9fa4af29f1"
      },
      "execution_count": null,
      "outputs": [
        {
          "output_type": "execute_result",
          "data": {
            "text/plain": [
              "     Incremento HP            Total HP  Incremento Magic Power  \\\n",
              "0         0.576923  0,6596558317399618                0.000000   \n",
              "1         0.615385  0,6405353728489483                0.373134   \n",
              "2         0.673077  0,7361376673040153                0.000000   \n",
              "3         0.884615  0,9133460803059276                0.597015   \n",
              "4         0.461538  0,5938049713193115                0.597015   \n",
              "..             ...                 ...                     ...   \n",
              "141       0.480769  0,5822179732313576                0.000000   \n",
              "142       0.615385  0,6500956022944551                0.350746   \n",
              "143       0.423077  0,4569789674952199                0.447761   \n",
              "144       0.615385  0,6730401529636711                0.373134   \n",
              "145       0.365385  0,4082217973231357                0.373134   \n",
              "\n",
              "      Total Magic Power  Incremento Attack Damage  Incremento Attack Speed  \\\n",
              "0                   0,0                     1.000                    0.300   \n",
              "1    0,5486138227254979                     0.600                    0.200   \n",
              "2    0,1301574905635819                     0.660                    0.440   \n",
              "3     0,670311076402447                     0.724                    0.225   \n",
              "4    0,6294416243654823                     0.760                    0.236   \n",
              "..                  ...                       ...                      ...   \n",
              "141  0,1301574905635819                     0.680                    0.460   \n",
              "142  0,5723675647533516                     0.620                    0.200   \n",
              "143  0,6260575296108292                     0.600                    0.226   \n",
              "144  0,5531693348952232                     0.660                    0.300   \n",
              "145  0,5486138227254979                     0.640                    0.222   \n",
              "\n",
              "     Incremento Attack Resistance Total Attack Damage  \\\n",
              "0                            0.65  0,9223300970873788   \n",
              "1                            0.70  0,5246601941747573   \n",
              "2                            0.70  0,6650485436893204   \n",
              "3                            0.70  0,7053553398058252   \n",
              "4                            0.76                0,66   \n",
              "..                            ...                 ...   \n",
              "141                          0.70   0,687378640776699   \n",
              "142                          0.66   0,552504854368932   \n",
              "143                          0.76  0,5110679611650486   \n",
              "144                          0.70  0,6223300970873786   \n",
              "145                          0.60  0,5609320388349515   \n",
              "\n",
              "     Incremento Magic Resistance  Total Attack Speed  ... Max Play Rate  \\\n",
              "0                       0.791667  0,3004128780304189  ...             1   \n",
              "1                       0.166667  0,2006281392257654  ...             1   \n",
              "2                       0.791667  0,4400856339618647  ...             1   \n",
              "3                       0.791667  0,2251185112865091  ...             1   \n",
              "4                       0.791667  0,2362697469798736  ...             1   \n",
              "..                           ...                 ...  ...           ...   \n",
              "141                     0.791667  0,4603884111841717  ...             1   \n",
              "142                     0.166667  0,2004869843435709  ...             1   \n",
              "143                     0.166667  0,2261183583687201  ...             1   \n",
              "144                     0.166667  0,3001070424523308  ...             1   \n",
              "145                     0.166667  0,2221189700398762  ...             1   \n",
              "\n",
              "    Max HP Max Attack Damage Max Magic Power Max Attack Resistance  \\\n",
              "0        1                 1               1                     1   \n",
              "1        1                 1               1                     1   \n",
              "2        1                 1               1                     1   \n",
              "3        1                 1               1                     1   \n",
              "4        1                 1               1                     1   \n",
              "..     ...               ...             ...                   ...   \n",
              "141      1                 1               1                     1   \n",
              "142      1                 1               1                     1   \n",
              "143      1                 1               1                     1   \n",
              "144      1                 1               1                     1   \n",
              "145      1                 1               1                     1   \n",
              "\n",
              "     Max Attack Speed  Max Magic Resistance  Max ms Max rng  Max Dificultad  \n",
              "0                   1                     1       1       1               1  \n",
              "1                   1                     1       1       1               1  \n",
              "2                   1                     1       1       1               1  \n",
              "3                   1                     1       1       1               1  \n",
              "4                   1                     1       1       1               1  \n",
              "..                ...                   ...     ...     ...             ...  \n",
              "141                 1                     1       1       1               1  \n",
              "142                 1                     1       1       1               1  \n",
              "143                 1                     1       1       1               1  \n",
              "144                 1                     1       1       1               1  \n",
              "145                 1                     1       1       1               1  \n",
              "\n",
              "[146 rows x 45 columns]"
            ],
            "text/html": [
              "\n",
              "  <div id=\"df-8c15c05c-5468-4978-8a37-4c94318e7e98\">\n",
              "    <div class=\"colab-df-container\">\n",
              "      <div>\n",
              "<style scoped>\n",
              "    .dataframe tbody tr th:only-of-type {\n",
              "        vertical-align: middle;\n",
              "    }\n",
              "\n",
              "    .dataframe tbody tr th {\n",
              "        vertical-align: top;\n",
              "    }\n",
              "\n",
              "    .dataframe thead th {\n",
              "        text-align: right;\n",
              "    }\n",
              "</style>\n",
              "<table border=\"1\" class=\"dataframe\">\n",
              "  <thead>\n",
              "    <tr style=\"text-align: right;\">\n",
              "      <th></th>\n",
              "      <th>Incremento HP</th>\n",
              "      <th>Total HP</th>\n",
              "      <th>Incremento Magic Power</th>\n",
              "      <th>Total Magic Power</th>\n",
              "      <th>Incremento Attack Damage</th>\n",
              "      <th>Incremento Attack Speed</th>\n",
              "      <th>Incremento Attack Resistance</th>\n",
              "      <th>Total Attack Damage</th>\n",
              "      <th>Incremento Magic Resistance</th>\n",
              "      <th>Total Attack Speed</th>\n",
              "      <th>...</th>\n",
              "      <th>Max Play Rate</th>\n",
              "      <th>Max HP</th>\n",
              "      <th>Max Attack Damage</th>\n",
              "      <th>Max Magic Power</th>\n",
              "      <th>Max Attack Resistance</th>\n",
              "      <th>Max Attack Speed</th>\n",
              "      <th>Max Magic Resistance</th>\n",
              "      <th>Max ms</th>\n",
              "      <th>Max rng</th>\n",
              "      <th>Max Dificultad</th>\n",
              "    </tr>\n",
              "  </thead>\n",
              "  <tbody>\n",
              "    <tr>\n",
              "      <th>0</th>\n",
              "      <td>0.576923</td>\n",
              "      <td>0,6596558317399618</td>\n",
              "      <td>0.000000</td>\n",
              "      <td>0,0</td>\n",
              "      <td>1.000</td>\n",
              "      <td>0.300</td>\n",
              "      <td>0.65</td>\n",
              "      <td>0,9223300970873788</td>\n",
              "      <td>0.791667</td>\n",
              "      <td>0,3004128780304189</td>\n",
              "      <td>...</td>\n",
              "      <td>1</td>\n",
              "      <td>1</td>\n",
              "      <td>1</td>\n",
              "      <td>1</td>\n",
              "      <td>1</td>\n",
              "      <td>1</td>\n",
              "      <td>1</td>\n",
              "      <td>1</td>\n",
              "      <td>1</td>\n",
              "      <td>1</td>\n",
              "    </tr>\n",
              "    <tr>\n",
              "      <th>1</th>\n",
              "      <td>0.615385</td>\n",
              "      <td>0,6405353728489483</td>\n",
              "      <td>0.373134</td>\n",
              "      <td>0,5486138227254979</td>\n",
              "      <td>0.600</td>\n",
              "      <td>0.200</td>\n",
              "      <td>0.70</td>\n",
              "      <td>0,5246601941747573</td>\n",
              "      <td>0.166667</td>\n",
              "      <td>0,2006281392257654</td>\n",
              "      <td>...</td>\n",
              "      <td>1</td>\n",
              "      <td>1</td>\n",
              "      <td>1</td>\n",
              "      <td>1</td>\n",
              "      <td>1</td>\n",
              "      <td>1</td>\n",
              "      <td>1</td>\n",
              "      <td>1</td>\n",
              "      <td>1</td>\n",
              "      <td>1</td>\n",
              "    </tr>\n",
              "    <tr>\n",
              "      <th>2</th>\n",
              "      <td>0.673077</td>\n",
              "      <td>0,7361376673040153</td>\n",
              "      <td>0.000000</td>\n",
              "      <td>0,1301574905635819</td>\n",
              "      <td>0.660</td>\n",
              "      <td>0.440</td>\n",
              "      <td>0.70</td>\n",
              "      <td>0,6650485436893204</td>\n",
              "      <td>0.791667</td>\n",
              "      <td>0,4400856339618647</td>\n",
              "      <td>...</td>\n",
              "      <td>1</td>\n",
              "      <td>1</td>\n",
              "      <td>1</td>\n",
              "      <td>1</td>\n",
              "      <td>1</td>\n",
              "      <td>1</td>\n",
              "      <td>1</td>\n",
              "      <td>1</td>\n",
              "      <td>1</td>\n",
              "      <td>1</td>\n",
              "    </tr>\n",
              "    <tr>\n",
              "      <th>3</th>\n",
              "      <td>0.884615</td>\n",
              "      <td>0,9133460803059276</td>\n",
              "      <td>0.597015</td>\n",
              "      <td>0,670311076402447</td>\n",
              "      <td>0.724</td>\n",
              "      <td>0.225</td>\n",
              "      <td>0.70</td>\n",
              "      <td>0,7053553398058252</td>\n",
              "      <td>0.791667</td>\n",
              "      <td>0,2251185112865091</td>\n",
              "      <td>...</td>\n",
              "      <td>1</td>\n",
              "      <td>1</td>\n",
              "      <td>1</td>\n",
              "      <td>1</td>\n",
              "      <td>1</td>\n",
              "      <td>1</td>\n",
              "      <td>1</td>\n",
              "      <td>1</td>\n",
              "      <td>1</td>\n",
              "      <td>1</td>\n",
              "    </tr>\n",
              "    <tr>\n",
              "      <th>4</th>\n",
              "      <td>0.461538</td>\n",
              "      <td>0,5938049713193115</td>\n",
              "      <td>0.597015</td>\n",
              "      <td>0,6294416243654823</td>\n",
              "      <td>0.760</td>\n",
              "      <td>0.236</td>\n",
              "      <td>0.76</td>\n",
              "      <td>0,66</td>\n",
              "      <td>0.791667</td>\n",
              "      <td>0,2362697469798736</td>\n",
              "      <td>...</td>\n",
              "      <td>1</td>\n",
              "      <td>1</td>\n",
              "      <td>1</td>\n",
              "      <td>1</td>\n",
              "      <td>1</td>\n",
              "      <td>1</td>\n",
              "      <td>1</td>\n",
              "      <td>1</td>\n",
              "      <td>1</td>\n",
              "      <td>1</td>\n",
              "    </tr>\n",
              "    <tr>\n",
              "      <th>...</th>\n",
              "      <td>...</td>\n",
              "      <td>...</td>\n",
              "      <td>...</td>\n",
              "      <td>...</td>\n",
              "      <td>...</td>\n",
              "      <td>...</td>\n",
              "      <td>...</td>\n",
              "      <td>...</td>\n",
              "      <td>...</td>\n",
              "      <td>...</td>\n",
              "      <td>...</td>\n",
              "      <td>...</td>\n",
              "      <td>...</td>\n",
              "      <td>...</td>\n",
              "      <td>...</td>\n",
              "      <td>...</td>\n",
              "      <td>...</td>\n",
              "      <td>...</td>\n",
              "      <td>...</td>\n",
              "      <td>...</td>\n",
              "      <td>...</td>\n",
              "    </tr>\n",
              "    <tr>\n",
              "      <th>141</th>\n",
              "      <td>0.480769</td>\n",
              "      <td>0,5822179732313576</td>\n",
              "      <td>0.000000</td>\n",
              "      <td>0,1301574905635819</td>\n",
              "      <td>0.680</td>\n",
              "      <td>0.460</td>\n",
              "      <td>0.70</td>\n",
              "      <td>0,687378640776699</td>\n",
              "      <td>0.791667</td>\n",
              "      <td>0,4603884111841717</td>\n",
              "      <td>...</td>\n",
              "      <td>1</td>\n",
              "      <td>1</td>\n",
              "      <td>1</td>\n",
              "      <td>1</td>\n",
              "      <td>1</td>\n",
              "      <td>1</td>\n",
              "      <td>1</td>\n",
              "      <td>1</td>\n",
              "      <td>1</td>\n",
              "      <td>1</td>\n",
              "    </tr>\n",
              "    <tr>\n",
              "      <th>142</th>\n",
              "      <td>0.615385</td>\n",
              "      <td>0,6500956022944551</td>\n",
              "      <td>0.350746</td>\n",
              "      <td>0,5723675647533516</td>\n",
              "      <td>0.620</td>\n",
              "      <td>0.200</td>\n",
              "      <td>0.66</td>\n",
              "      <td>0,552504854368932</td>\n",
              "      <td>0.166667</td>\n",
              "      <td>0,2004869843435709</td>\n",
              "      <td>...</td>\n",
              "      <td>1</td>\n",
              "      <td>1</td>\n",
              "      <td>1</td>\n",
              "      <td>1</td>\n",
              "      <td>1</td>\n",
              "      <td>1</td>\n",
              "      <td>1</td>\n",
              "      <td>1</td>\n",
              "      <td>1</td>\n",
              "      <td>1</td>\n",
              "    </tr>\n",
              "    <tr>\n",
              "      <th>143</th>\n",
              "      <td>0.423077</td>\n",
              "      <td>0,4569789674952199</td>\n",
              "      <td>0.447761</td>\n",
              "      <td>0,6260575296108292</td>\n",
              "      <td>0.600</td>\n",
              "      <td>0.226</td>\n",
              "      <td>0.76</td>\n",
              "      <td>0,5110679611650486</td>\n",
              "      <td>0.166667</td>\n",
              "      <td>0,2261183583687201</td>\n",
              "      <td>...</td>\n",
              "      <td>1</td>\n",
              "      <td>1</td>\n",
              "      <td>1</td>\n",
              "      <td>1</td>\n",
              "      <td>1</td>\n",
              "      <td>1</td>\n",
              "      <td>1</td>\n",
              "      <td>1</td>\n",
              "      <td>1</td>\n",
              "      <td>1</td>\n",
              "    </tr>\n",
              "    <tr>\n",
              "      <th>144</th>\n",
              "      <td>0.615385</td>\n",
              "      <td>0,6730401529636711</td>\n",
              "      <td>0.373134</td>\n",
              "      <td>0,5531693348952232</td>\n",
              "      <td>0.660</td>\n",
              "      <td>0.300</td>\n",
              "      <td>0.70</td>\n",
              "      <td>0,6223300970873786</td>\n",
              "      <td>0.166667</td>\n",
              "      <td>0,3001070424523308</td>\n",
              "      <td>...</td>\n",
              "      <td>1</td>\n",
              "      <td>1</td>\n",
              "      <td>1</td>\n",
              "      <td>1</td>\n",
              "      <td>1</td>\n",
              "      <td>1</td>\n",
              "      <td>1</td>\n",
              "      <td>1</td>\n",
              "      <td>1</td>\n",
              "      <td>1</td>\n",
              "    </tr>\n",
              "    <tr>\n",
              "      <th>145</th>\n",
              "      <td>0.365385</td>\n",
              "      <td>0,4082217973231357</td>\n",
              "      <td>0.373134</td>\n",
              "      <td>0,5486138227254979</td>\n",
              "      <td>0.640</td>\n",
              "      <td>0.222</td>\n",
              "      <td>0.60</td>\n",
              "      <td>0,5609320388349515</td>\n",
              "      <td>0.166667</td>\n",
              "      <td>0,2221189700398762</td>\n",
              "      <td>...</td>\n",
              "      <td>1</td>\n",
              "      <td>1</td>\n",
              "      <td>1</td>\n",
              "      <td>1</td>\n",
              "      <td>1</td>\n",
              "      <td>1</td>\n",
              "      <td>1</td>\n",
              "      <td>1</td>\n",
              "      <td>1</td>\n",
              "      <td>1</td>\n",
              "    </tr>\n",
              "  </tbody>\n",
              "</table>\n",
              "<p>146 rows × 45 columns</p>\n",
              "</div>\n",
              "      <button class=\"colab-df-convert\" onclick=\"convertToInteractive('df-8c15c05c-5468-4978-8a37-4c94318e7e98')\"\n",
              "              title=\"Convert this dataframe to an interactive table.\"\n",
              "              style=\"display:none;\">\n",
              "        \n",
              "  <svg xmlns=\"http://www.w3.org/2000/svg\" height=\"24px\"viewBox=\"0 0 24 24\"\n",
              "       width=\"24px\">\n",
              "    <path d=\"M0 0h24v24H0V0z\" fill=\"none\"/>\n",
              "    <path d=\"M18.56 5.44l.94 2.06.94-2.06 2.06-.94-2.06-.94-.94-2.06-.94 2.06-2.06.94zm-11 1L8.5 8.5l.94-2.06 2.06-.94-2.06-.94L8.5 2.5l-.94 2.06-2.06.94zm10 10l.94 2.06.94-2.06 2.06-.94-2.06-.94-.94-2.06-.94 2.06-2.06.94z\"/><path d=\"M17.41 7.96l-1.37-1.37c-.4-.4-.92-.59-1.43-.59-.52 0-1.04.2-1.43.59L10.3 9.45l-7.72 7.72c-.78.78-.78 2.05 0 2.83L4 21.41c.39.39.9.59 1.41.59.51 0 1.02-.2 1.41-.59l7.78-7.78 2.81-2.81c.8-.78.8-2.07 0-2.86zM5.41 20L4 18.59l7.72-7.72 1.47 1.35L5.41 20z\"/>\n",
              "  </svg>\n",
              "      </button>\n",
              "      \n",
              "  <style>\n",
              "    .colab-df-container {\n",
              "      display:flex;\n",
              "      flex-wrap:wrap;\n",
              "      gap: 12px;\n",
              "    }\n",
              "\n",
              "    .colab-df-convert {\n",
              "      background-color: #E8F0FE;\n",
              "      border: none;\n",
              "      border-radius: 50%;\n",
              "      cursor: pointer;\n",
              "      display: none;\n",
              "      fill: #1967D2;\n",
              "      height: 32px;\n",
              "      padding: 0 0 0 0;\n",
              "      width: 32px;\n",
              "    }\n",
              "\n",
              "    .colab-df-convert:hover {\n",
              "      background-color: #E2EBFA;\n",
              "      box-shadow: 0px 1px 2px rgba(60, 64, 67, 0.3), 0px 1px 3px 1px rgba(60, 64, 67, 0.15);\n",
              "      fill: #174EA6;\n",
              "    }\n",
              "\n",
              "    [theme=dark] .colab-df-convert {\n",
              "      background-color: #3B4455;\n",
              "      fill: #D2E3FC;\n",
              "    }\n",
              "\n",
              "    [theme=dark] .colab-df-convert:hover {\n",
              "      background-color: #434B5C;\n",
              "      box-shadow: 0px 1px 3px 1px rgba(0, 0, 0, 0.15);\n",
              "      filter: drop-shadow(0px 1px 2px rgba(0, 0, 0, 0.3));\n",
              "      fill: #FFFFFF;\n",
              "    }\n",
              "  </style>\n",
              "\n",
              "      <script>\n",
              "        const buttonEl =\n",
              "          document.querySelector('#df-8c15c05c-5468-4978-8a37-4c94318e7e98 button.colab-df-convert');\n",
              "        buttonEl.style.display =\n",
              "          google.colab.kernel.accessAllowed ? 'block' : 'none';\n",
              "\n",
              "        async function convertToInteractive(key) {\n",
              "          const element = document.querySelector('#df-8c15c05c-5468-4978-8a37-4c94318e7e98');\n",
              "          const dataTable =\n",
              "            await google.colab.kernel.invokeFunction('convertToInteractive',\n",
              "                                                     [key], {});\n",
              "          if (!dataTable) return;\n",
              "\n",
              "          const docLinkHtml = 'Like what you see? Visit the ' +\n",
              "            '<a target=\"_blank\" href=https://colab.research.google.com/notebooks/data_table.ipynb>data table notebook</a>'\n",
              "            + ' to learn more about interactive tables.';\n",
              "          element.innerHTML = '';\n",
              "          dataTable['output_type'] = 'display_data';\n",
              "          await google.colab.output.renderOutput(dataTable, element);\n",
              "          const docLink = document.createElement('div');\n",
              "          docLink.innerHTML = docLinkHtml;\n",
              "          element.appendChild(docLink);\n",
              "        }\n",
              "      </script>\n",
              "    </div>\n",
              "  </div>\n",
              "  "
            ]
          },
          "metadata": {},
          "execution_count": 20
        }
      ]
    },
    {
      "cell_type": "code",
      "source": [
        "normalizado.columns"
      ],
      "metadata": {
        "colab": {
          "base_uri": "https://localhost:8080/"
        },
        "id": "sygOrAtbOjGy",
        "outputId": "fdc6ec3d-3364-4d10-aa4c-e696ef7796b6"
      },
      "execution_count": null,
      "outputs": [
        {
          "output_type": "execute_result",
          "data": {
            "text/plain": [
              "Index(['Incremento HP', 'Total HP', 'Incremento Magic Power',\n",
              "       'Total Magic Power', 'Incremento Attack Damage',\n",
              "       'Incremento Attack Speed', 'Incremento Attack Resistance',\n",
              "       'Total Attack Damage', 'Incremento Magic Resistance',\n",
              "       'Total Attack Speed', 'Total Attack Resistance',\n",
              "       'Total Magic Resistance', 'ms', 'rng', 'Dificultad', 'AD', 'Defensa',\n",
              "       'AP', 'Play Rate', 'TOP Play Rate', 'Jungle Play Rate', 'MID Play Rate',\n",
              "       'ADC Play Rate', 'Support Play Rate', 'ID', 'Med Play Rate', 'Med HP',\n",
              "       'Med Attack Damage', 'Med Magic Power', 'Med Attack Resistance',\n",
              "       'Med Attack Speed', 'Med Magic Resistance', 'Med ms', 'Med rng',\n",
              "       'Med Dificultad', 'Max Play Rate', 'Max HP', 'Max Attack Damage',\n",
              "       'Max Magic Power', 'Max Attack Resistance', 'Max Attack Speed',\n",
              "       'Max Magic Resistance', 'Max ms', 'Max rng', 'Max Dificultad'],\n",
              "      dtype='object')"
            ]
          },
          "metadata": {},
          "execution_count": 29
        }
      ]
    },
    {
      "cell_type": "code",
      "source": [
        "normalizado = normalizado.reindex(columns=[\"ID\", \"Play Rate\", \"Total HP\", \"Total Attack Damage\", \"Total Magic Power\", \"Total Attack Resistance\", \"Total Magic Resistance\", \"Total Attack Speed\", \"ms\", \"rng\", \"Dificultad\", \"Incremento HP\", \"Incremento Magic Power\", \"Incremento Attack Damage\", \"Incremento Magic Resistance\", \"AD\", \"Defensa\", \"AP\", \"TOP Play Rate\", \"Jungle Play Rate\", \"Mid Play Rate\", \"ADC Play Rate\", \"Support Play Rate\", \"Med Play Rate\", \"Med HP\", \"Med Attack Damage\", \"Med Magic Power\", \"Med Attack Resistance\", \"Med Magic Resistance\", \"Med Attack Speed\", \"Med ms\", \"Med rng\", \"Med Dificultad\", \"Max Play Rate\", \"Max HP\", \"Max Attack Damage\", \"Max Magic Power\", \"Max Attack Resistance\", \"Max Magic Resistance\", \"Max Attack Speed\", \"Max ms\", \"Max rng\", \"Max Dificultad\"])"
      ],
      "metadata": {
        "id": "PT2KSXwKOfAe"
      },
      "execution_count": null,
      "outputs": []
    },
    {
      "cell_type": "code",
      "source": [
        "normalizado = normalizado.rename(columns={\"Dificultad\": \"Total Dificultad\", \"ms\": \"Total MS\", \"Play Rate\": \"Total Play Rate\", \"rng\": \"Total RNG\"})"
      ],
      "metadata": {
        "id": "A8VTckO-X_kf"
      },
      "execution_count": null,
      "outputs": []
    },
    {
      "cell_type": "code",
      "source": [
        ""
      ],
      "metadata": {
        "id": "L4r4EIaNY43w"
      },
      "execution_count": null,
      "outputs": []
    },
    {
      "cell_type": "code",
      "source": [
        "campeones = campeones.drop([\"Unnamed: 0\"], axis=1)"
      ],
      "metadata": {
        "id": "gvc3gQ4rydjM",
        "colab": {
          "base_uri": "https://localhost:8080/",
          "height": 311
        },
        "outputId": "132ea8e3-cdee-429b-f504-0f31093da66d"
      },
      "execution_count": null,
      "outputs": [
        {
          "output_type": "error",
          "ename": "KeyError",
          "evalue": "ignored",
          "traceback": [
            "\u001b[0;31m---------------------------------------------------------------------------\u001b[0m",
            "\u001b[0;31mKeyError\u001b[0m                                  Traceback (most recent call last)",
            "\u001b[0;32m<ipython-input-33-cfc90df23d71>\u001b[0m in \u001b[0;36m<module>\u001b[0;34m()\u001b[0m\n\u001b[0;32m----> 1\u001b[0;31m \u001b[0mcampeones\u001b[0m \u001b[0;34m=\u001b[0m \u001b[0mcampeones\u001b[0m\u001b[0;34m.\u001b[0m\u001b[0mdrop\u001b[0m\u001b[0;34m(\u001b[0m\u001b[0;34m[\u001b[0m\u001b[0;34m\"Unnamed: 0\"\u001b[0m\u001b[0;34m]\u001b[0m\u001b[0;34m,\u001b[0m \u001b[0maxis\u001b[0m\u001b[0;34m=\u001b[0m\u001b[0;36m1\u001b[0m\u001b[0;34m)\u001b[0m\u001b[0;34m\u001b[0m\u001b[0;34m\u001b[0m\u001b[0m\n\u001b[0m",
            "\u001b[0;32m/usr/local/lib/python3.7/dist-packages/pandas/util/_decorators.py\u001b[0m in \u001b[0;36mwrapper\u001b[0;34m(*args, **kwargs)\u001b[0m\n\u001b[1;32m    309\u001b[0m                     \u001b[0mstacklevel\u001b[0m\u001b[0;34m=\u001b[0m\u001b[0mstacklevel\u001b[0m\u001b[0;34m,\u001b[0m\u001b[0;34m\u001b[0m\u001b[0;34m\u001b[0m\u001b[0m\n\u001b[1;32m    310\u001b[0m                 )\n\u001b[0;32m--> 311\u001b[0;31m             \u001b[0;32mreturn\u001b[0m \u001b[0mfunc\u001b[0m\u001b[0;34m(\u001b[0m\u001b[0;34m*\u001b[0m\u001b[0margs\u001b[0m\u001b[0;34m,\u001b[0m \u001b[0;34m**\u001b[0m\u001b[0mkwargs\u001b[0m\u001b[0;34m)\u001b[0m\u001b[0;34m\u001b[0m\u001b[0;34m\u001b[0m\u001b[0m\n\u001b[0m\u001b[1;32m    312\u001b[0m \u001b[0;34m\u001b[0m\u001b[0m\n\u001b[1;32m    313\u001b[0m         \u001b[0;32mreturn\u001b[0m \u001b[0mwrapper\u001b[0m\u001b[0;34m\u001b[0m\u001b[0;34m\u001b[0m\u001b[0m\n",
            "\u001b[0;32m/usr/local/lib/python3.7/dist-packages/pandas/core/frame.py\u001b[0m in \u001b[0;36mdrop\u001b[0;34m(self, labels, axis, index, columns, level, inplace, errors)\u001b[0m\n\u001b[1;32m   4911\u001b[0m             \u001b[0mlevel\u001b[0m\u001b[0;34m=\u001b[0m\u001b[0mlevel\u001b[0m\u001b[0;34m,\u001b[0m\u001b[0;34m\u001b[0m\u001b[0;34m\u001b[0m\u001b[0m\n\u001b[1;32m   4912\u001b[0m             \u001b[0minplace\u001b[0m\u001b[0;34m=\u001b[0m\u001b[0minplace\u001b[0m\u001b[0;34m,\u001b[0m\u001b[0;34m\u001b[0m\u001b[0;34m\u001b[0m\u001b[0m\n\u001b[0;32m-> 4913\u001b[0;31m             \u001b[0merrors\u001b[0m\u001b[0;34m=\u001b[0m\u001b[0merrors\u001b[0m\u001b[0;34m,\u001b[0m\u001b[0;34m\u001b[0m\u001b[0;34m\u001b[0m\u001b[0m\n\u001b[0m\u001b[1;32m   4914\u001b[0m         )\n\u001b[1;32m   4915\u001b[0m \u001b[0;34m\u001b[0m\u001b[0m\n",
            "\u001b[0;32m/usr/local/lib/python3.7/dist-packages/pandas/core/generic.py\u001b[0m in \u001b[0;36mdrop\u001b[0;34m(self, labels, axis, index, columns, level, inplace, errors)\u001b[0m\n\u001b[1;32m   4148\u001b[0m         \u001b[0;32mfor\u001b[0m \u001b[0maxis\u001b[0m\u001b[0;34m,\u001b[0m \u001b[0mlabels\u001b[0m \u001b[0;32min\u001b[0m \u001b[0maxes\u001b[0m\u001b[0;34m.\u001b[0m\u001b[0mitems\u001b[0m\u001b[0;34m(\u001b[0m\u001b[0;34m)\u001b[0m\u001b[0;34m:\u001b[0m\u001b[0;34m\u001b[0m\u001b[0;34m\u001b[0m\u001b[0m\n\u001b[1;32m   4149\u001b[0m             \u001b[0;32mif\u001b[0m \u001b[0mlabels\u001b[0m \u001b[0;32mis\u001b[0m \u001b[0;32mnot\u001b[0m \u001b[0;32mNone\u001b[0m\u001b[0;34m:\u001b[0m\u001b[0;34m\u001b[0m\u001b[0;34m\u001b[0m\u001b[0m\n\u001b[0;32m-> 4150\u001b[0;31m                 \u001b[0mobj\u001b[0m \u001b[0;34m=\u001b[0m \u001b[0mobj\u001b[0m\u001b[0;34m.\u001b[0m\u001b[0m_drop_axis\u001b[0m\u001b[0;34m(\u001b[0m\u001b[0mlabels\u001b[0m\u001b[0;34m,\u001b[0m \u001b[0maxis\u001b[0m\u001b[0;34m,\u001b[0m \u001b[0mlevel\u001b[0m\u001b[0;34m=\u001b[0m\u001b[0mlevel\u001b[0m\u001b[0;34m,\u001b[0m \u001b[0merrors\u001b[0m\u001b[0;34m=\u001b[0m\u001b[0merrors\u001b[0m\u001b[0;34m)\u001b[0m\u001b[0;34m\u001b[0m\u001b[0;34m\u001b[0m\u001b[0m\n\u001b[0m\u001b[1;32m   4151\u001b[0m \u001b[0;34m\u001b[0m\u001b[0m\n\u001b[1;32m   4152\u001b[0m         \u001b[0;32mif\u001b[0m \u001b[0minplace\u001b[0m\u001b[0;34m:\u001b[0m\u001b[0;34m\u001b[0m\u001b[0;34m\u001b[0m\u001b[0m\n",
            "\u001b[0;32m/usr/local/lib/python3.7/dist-packages/pandas/core/generic.py\u001b[0m in \u001b[0;36m_drop_axis\u001b[0;34m(self, labels, axis, level, errors)\u001b[0m\n\u001b[1;32m   4183\u001b[0m                 \u001b[0mnew_axis\u001b[0m \u001b[0;34m=\u001b[0m \u001b[0maxis\u001b[0m\u001b[0;34m.\u001b[0m\u001b[0mdrop\u001b[0m\u001b[0;34m(\u001b[0m\u001b[0mlabels\u001b[0m\u001b[0;34m,\u001b[0m \u001b[0mlevel\u001b[0m\u001b[0;34m=\u001b[0m\u001b[0mlevel\u001b[0m\u001b[0;34m,\u001b[0m \u001b[0merrors\u001b[0m\u001b[0;34m=\u001b[0m\u001b[0merrors\u001b[0m\u001b[0;34m)\u001b[0m\u001b[0;34m\u001b[0m\u001b[0;34m\u001b[0m\u001b[0m\n\u001b[1;32m   4184\u001b[0m             \u001b[0;32melse\u001b[0m\u001b[0;34m:\u001b[0m\u001b[0;34m\u001b[0m\u001b[0;34m\u001b[0m\u001b[0m\n\u001b[0;32m-> 4185\u001b[0;31m                 \u001b[0mnew_axis\u001b[0m \u001b[0;34m=\u001b[0m \u001b[0maxis\u001b[0m\u001b[0;34m.\u001b[0m\u001b[0mdrop\u001b[0m\u001b[0;34m(\u001b[0m\u001b[0mlabels\u001b[0m\u001b[0;34m,\u001b[0m \u001b[0merrors\u001b[0m\u001b[0;34m=\u001b[0m\u001b[0merrors\u001b[0m\u001b[0;34m)\u001b[0m\u001b[0;34m\u001b[0m\u001b[0;34m\u001b[0m\u001b[0m\n\u001b[0m\u001b[1;32m   4186\u001b[0m             \u001b[0mresult\u001b[0m \u001b[0;34m=\u001b[0m \u001b[0mself\u001b[0m\u001b[0;34m.\u001b[0m\u001b[0mreindex\u001b[0m\u001b[0;34m(\u001b[0m\u001b[0;34m**\u001b[0m\u001b[0;34m{\u001b[0m\u001b[0maxis_name\u001b[0m\u001b[0;34m:\u001b[0m \u001b[0mnew_axis\u001b[0m\u001b[0;34m}\u001b[0m\u001b[0;34m)\u001b[0m\u001b[0;34m\u001b[0m\u001b[0;34m\u001b[0m\u001b[0m\n\u001b[1;32m   4187\u001b[0m \u001b[0;34m\u001b[0m\u001b[0m\n",
            "\u001b[0;32m/usr/local/lib/python3.7/dist-packages/pandas/core/indexes/base.py\u001b[0m in \u001b[0;36mdrop\u001b[0;34m(self, labels, errors)\u001b[0m\n\u001b[1;32m   6015\u001b[0m         \u001b[0;32mif\u001b[0m \u001b[0mmask\u001b[0m\u001b[0;34m.\u001b[0m\u001b[0many\u001b[0m\u001b[0;34m(\u001b[0m\u001b[0;34m)\u001b[0m\u001b[0;34m:\u001b[0m\u001b[0;34m\u001b[0m\u001b[0;34m\u001b[0m\u001b[0m\n\u001b[1;32m   6016\u001b[0m             \u001b[0;32mif\u001b[0m \u001b[0merrors\u001b[0m \u001b[0;34m!=\u001b[0m \u001b[0;34m\"ignore\"\u001b[0m\u001b[0;34m:\u001b[0m\u001b[0;34m\u001b[0m\u001b[0;34m\u001b[0m\u001b[0m\n\u001b[0;32m-> 6017\u001b[0;31m                 \u001b[0;32mraise\u001b[0m \u001b[0mKeyError\u001b[0m\u001b[0;34m(\u001b[0m\u001b[0;34mf\"{labels[mask]} not found in axis\"\u001b[0m\u001b[0;34m)\u001b[0m\u001b[0;34m\u001b[0m\u001b[0;34m\u001b[0m\u001b[0m\n\u001b[0m\u001b[1;32m   6018\u001b[0m             \u001b[0mindexer\u001b[0m \u001b[0;34m=\u001b[0m \u001b[0mindexer\u001b[0m\u001b[0;34m[\u001b[0m\u001b[0;34m~\u001b[0m\u001b[0mmask\u001b[0m\u001b[0;34m]\u001b[0m\u001b[0;34m\u001b[0m\u001b[0;34m\u001b[0m\u001b[0m\n\u001b[1;32m   6019\u001b[0m         \u001b[0;32mreturn\u001b[0m \u001b[0mself\u001b[0m\u001b[0;34m.\u001b[0m\u001b[0mdelete\u001b[0m\u001b[0;34m(\u001b[0m\u001b[0mindexer\u001b[0m\u001b[0;34m)\u001b[0m\u001b[0;34m\u001b[0m\u001b[0;34m\u001b[0m\u001b[0m\n",
            "\u001b[0;31mKeyError\u001b[0m: \"['Unnamed: 0'] not found in axis\""
          ]
        }
      ]
    },
    {
      "cell_type": "code",
      "source": [
        "habilidades = habilidades.drop([\"Unnamed: 0\"], axis=1)"
      ],
      "metadata": {
        "id": "Rjh--ChYyjjg"
      },
      "execution_count": null,
      "outputs": []
    },
    {
      "cell_type": "code",
      "source": [
        "habilidades.to_csv(\"habilidades.csv\")"
      ],
      "metadata": {
        "id": "ED_Wx-x2ympb"
      },
      "execution_count": null,
      "outputs": []
    },
    {
      "cell_type": "code",
      "source": [
        "campeones.to_csv(\"champions.csv\")"
      ],
      "metadata": {
        "id": "a8v3AF62yskB"
      },
      "execution_count": null,
      "outputs": []
    },
    {
      "cell_type": "code",
      "source": [
        "normalizado.to_csv(\"normalizado.csv\")"
      ],
      "metadata": {
        "id": "8EFKc69fyv1H"
      },
      "execution_count": null,
      "outputs": []
    },
    {
      "cell_type": "code",
      "source": [
        "medias.to_csv(\"medias.csv\")"
      ],
      "metadata": {
        "id": "0cV99CDc-DHJ"
      },
      "execution_count": null,
      "outputs": []
    },
    {
      "cell_type": "code",
      "source": [
        "maximos.to_csv(\"max.csv\")"
      ],
      "metadata": {
        "id": "9KjLiEFP-HGn"
      },
      "execution_count": null,
      "outputs": []
    },
    {
      "cell_type": "code",
      "source": [
        "from google.colab import files\n",
        "files.download(\"champions.csv\")\n",
        "files.download(\"habilidades.csv\")\n",
        "files.download(\"normalizado.csv\")\n",
        "files.download(\"medias.csv\")\n",
        "files.download(\"max.csv\")"
      ],
      "metadata": {
        "colab": {
          "base_uri": "https://localhost:8080/",
          "height": 17
        },
        "id": "68CsUeQRy3WA",
        "outputId": "edcdc16a-6aef-4b9d-9084-383c19ec778f"
      },
      "execution_count": null,
      "outputs": [
        {
          "output_type": "display_data",
          "data": {
            "text/plain": [
              "<IPython.core.display.Javascript object>"
            ],
            "application/javascript": [
              "\n",
              "    async function download(id, filename, size) {\n",
              "      if (!google.colab.kernel.accessAllowed) {\n",
              "        return;\n",
              "      }\n",
              "      const div = document.createElement('div');\n",
              "      const label = document.createElement('label');\n",
              "      label.textContent = `Downloading \"${filename}\": `;\n",
              "      div.appendChild(label);\n",
              "      const progress = document.createElement('progress');\n",
              "      progress.max = size;\n",
              "      div.appendChild(progress);\n",
              "      document.body.appendChild(div);\n",
              "\n",
              "      const buffers = [];\n",
              "      let downloaded = 0;\n",
              "\n",
              "      const channel = await google.colab.kernel.comms.open(id);\n",
              "      // Send a message to notify the kernel that we're ready.\n",
              "      channel.send({})\n",
              "\n",
              "      for await (const message of channel.messages) {\n",
              "        // Send a message to notify the kernel that we're ready.\n",
              "        channel.send({})\n",
              "        if (message.buffers) {\n",
              "          for (const buffer of message.buffers) {\n",
              "            buffers.push(buffer);\n",
              "            downloaded += buffer.byteLength;\n",
              "            progress.value = downloaded;\n",
              "          }\n",
              "        }\n",
              "      }\n",
              "      const blob = new Blob(buffers, {type: 'application/binary'});\n",
              "      const a = document.createElement('a');\n",
              "      a.href = window.URL.createObjectURL(blob);\n",
              "      a.download = filename;\n",
              "      div.appendChild(a);\n",
              "      a.click();\n",
              "      div.remove();\n",
              "    }\n",
              "  "
            ]
          },
          "metadata": {}
        },
        {
          "output_type": "display_data",
          "data": {
            "text/plain": [
              "<IPython.core.display.Javascript object>"
            ],
            "application/javascript": [
              "download(\"download_012afcb6-2f99-4312-bbfb-46c57fbdef52\", \"champions.csv\", 104563)"
            ]
          },
          "metadata": {}
        },
        {
          "output_type": "display_data",
          "data": {
            "text/plain": [
              "<IPython.core.display.Javascript object>"
            ],
            "application/javascript": [
              "\n",
              "    async function download(id, filename, size) {\n",
              "      if (!google.colab.kernel.accessAllowed) {\n",
              "        return;\n",
              "      }\n",
              "      const div = document.createElement('div');\n",
              "      const label = document.createElement('label');\n",
              "      label.textContent = `Downloading \"${filename}\": `;\n",
              "      div.appendChild(label);\n",
              "      const progress = document.createElement('progress');\n",
              "      progress.max = size;\n",
              "      div.appendChild(progress);\n",
              "      document.body.appendChild(div);\n",
              "\n",
              "      const buffers = [];\n",
              "      let downloaded = 0;\n",
              "\n",
              "      const channel = await google.colab.kernel.comms.open(id);\n",
              "      // Send a message to notify the kernel that we're ready.\n",
              "      channel.send({})\n",
              "\n",
              "      for await (const message of channel.messages) {\n",
              "        // Send a message to notify the kernel that we're ready.\n",
              "        channel.send({})\n",
              "        if (message.buffers) {\n",
              "          for (const buffer of message.buffers) {\n",
              "            buffers.push(buffer);\n",
              "            downloaded += buffer.byteLength;\n",
              "            progress.value = downloaded;\n",
              "          }\n",
              "        }\n",
              "      }\n",
              "      const blob = new Blob(buffers, {type: 'application/binary'});\n",
              "      const a = document.createElement('a');\n",
              "      a.href = window.URL.createObjectURL(blob);\n",
              "      a.download = filename;\n",
              "      div.appendChild(a);\n",
              "      a.click();\n",
              "      div.remove();\n",
              "    }\n",
              "  "
            ]
          },
          "metadata": {}
        },
        {
          "output_type": "display_data",
          "data": {
            "text/plain": [
              "<IPython.core.display.Javascript object>"
            ],
            "application/javascript": [
              "download(\"download_ca332fce-5f6a-43a6-b261-5c62dbd6d2dd\", \"habilidades.csv\", 410533)"
            ]
          },
          "metadata": {}
        },
        {
          "output_type": "display_data",
          "data": {
            "text/plain": [
              "<IPython.core.display.Javascript object>"
            ],
            "application/javascript": [
              "\n",
              "    async function download(id, filename, size) {\n",
              "      if (!google.colab.kernel.accessAllowed) {\n",
              "        return;\n",
              "      }\n",
              "      const div = document.createElement('div');\n",
              "      const label = document.createElement('label');\n",
              "      label.textContent = `Downloading \"${filename}\": `;\n",
              "      div.appendChild(label);\n",
              "      const progress = document.createElement('progress');\n",
              "      progress.max = size;\n",
              "      div.appendChild(progress);\n",
              "      document.body.appendChild(div);\n",
              "\n",
              "      const buffers = [];\n",
              "      let downloaded = 0;\n",
              "\n",
              "      const channel = await google.colab.kernel.comms.open(id);\n",
              "      // Send a message to notify the kernel that we're ready.\n",
              "      channel.send({})\n",
              "\n",
              "      for await (const message of channel.messages) {\n",
              "        // Send a message to notify the kernel that we're ready.\n",
              "        channel.send({})\n",
              "        if (message.buffers) {\n",
              "          for (const buffer of message.buffers) {\n",
              "            buffers.push(buffer);\n",
              "            downloaded += buffer.byteLength;\n",
              "            progress.value = downloaded;\n",
              "          }\n",
              "        }\n",
              "      }\n",
              "      const blob = new Blob(buffers, {type: 'application/binary'});\n",
              "      const a = document.createElement('a');\n",
              "      a.href = window.URL.createObjectURL(blob);\n",
              "      a.download = filename;\n",
              "      div.appendChild(a);\n",
              "      a.click();\n",
              "      div.remove();\n",
              "    }\n",
              "  "
            ]
          },
          "metadata": {}
        },
        {
          "output_type": "display_data",
          "data": {
            "text/plain": [
              "<IPython.core.display.Javascript object>"
            ],
            "application/javascript": [
              "download(\"download_a01b86ad-b588-4091-9337-ad8deefdbb6a\", \"normalizado.csv\", 85805)"
            ]
          },
          "metadata": {}
        },
        {
          "output_type": "display_data",
          "data": {
            "text/plain": [
              "<IPython.core.display.Javascript object>"
            ],
            "application/javascript": [
              "\n",
              "    async function download(id, filename, size) {\n",
              "      if (!google.colab.kernel.accessAllowed) {\n",
              "        return;\n",
              "      }\n",
              "      const div = document.createElement('div');\n",
              "      const label = document.createElement('label');\n",
              "      label.textContent = `Downloading \"${filename}\": `;\n",
              "      div.appendChild(label);\n",
              "      const progress = document.createElement('progress');\n",
              "      progress.max = size;\n",
              "      div.appendChild(progress);\n",
              "      document.body.appendChild(div);\n",
              "\n",
              "      const buffers = [];\n",
              "      let downloaded = 0;\n",
              "\n",
              "      const channel = await google.colab.kernel.comms.open(id);\n",
              "      // Send a message to notify the kernel that we're ready.\n",
              "      channel.send({})\n",
              "\n",
              "      for await (const message of channel.messages) {\n",
              "        // Send a message to notify the kernel that we're ready.\n",
              "        channel.send({})\n",
              "        if (message.buffers) {\n",
              "          for (const buffer of message.buffers) {\n",
              "            buffers.push(buffer);\n",
              "            downloaded += buffer.byteLength;\n",
              "            progress.value = downloaded;\n",
              "          }\n",
              "        }\n",
              "      }\n",
              "      const blob = new Blob(buffers, {type: 'application/binary'});\n",
              "      const a = document.createElement('a');\n",
              "      a.href = window.URL.createObjectURL(blob);\n",
              "      a.download = filename;\n",
              "      div.appendChild(a);\n",
              "      a.click();\n",
              "      div.remove();\n",
              "    }\n",
              "  "
            ]
          },
          "metadata": {}
        },
        {
          "output_type": "display_data",
          "data": {
            "text/plain": [
              "<IPython.core.display.Javascript object>"
            ],
            "application/javascript": [
              "download(\"download_47466a36-1e2c-497e-8f58-f5eecbc160ad\", \"medias.csv\", 32066)"
            ]
          },
          "metadata": {}
        },
        {
          "output_type": "display_data",
          "data": {
            "text/plain": [
              "<IPython.core.display.Javascript object>"
            ],
            "application/javascript": [
              "\n",
              "    async function download(id, filename, size) {\n",
              "      if (!google.colab.kernel.accessAllowed) {\n",
              "        return;\n",
              "      }\n",
              "      const div = document.createElement('div');\n",
              "      const label = document.createElement('label');\n",
              "      label.textContent = `Downloading \"${filename}\": `;\n",
              "      div.appendChild(label);\n",
              "      const progress = document.createElement('progress');\n",
              "      progress.max = size;\n",
              "      div.appendChild(progress);\n",
              "      document.body.appendChild(div);\n",
              "\n",
              "      const buffers = [];\n",
              "      let downloaded = 0;\n",
              "\n",
              "      const channel = await google.colab.kernel.comms.open(id);\n",
              "      // Send a message to notify the kernel that we're ready.\n",
              "      channel.send({})\n",
              "\n",
              "      for await (const message of channel.messages) {\n",
              "        // Send a message to notify the kernel that we're ready.\n",
              "        channel.send({})\n",
              "        if (message.buffers) {\n",
              "          for (const buffer of message.buffers) {\n",
              "            buffers.push(buffer);\n",
              "            downloaded += buffer.byteLength;\n",
              "            progress.value = downloaded;\n",
              "          }\n",
              "        }\n",
              "      }\n",
              "      const blob = new Blob(buffers, {type: 'application/binary'});\n",
              "      const a = document.createElement('a');\n",
              "      a.href = window.URL.createObjectURL(blob);\n",
              "      a.download = filename;\n",
              "      div.appendChild(a);\n",
              "      a.click();\n",
              "      div.remove();\n",
              "    }\n",
              "  "
            ]
          },
          "metadata": {}
        },
        {
          "output_type": "display_data",
          "data": {
            "text/plain": [
              "<IPython.core.display.Javascript object>"
            ],
            "application/javascript": [
              "download(\"download_4750662b-1e0a-42b5-9936-fab56110fba0\", \"max.csv\", 4034)"
            ]
          },
          "metadata": {}
        }
      ]
    }
  ]
}